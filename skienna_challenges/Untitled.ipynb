{
 "cells": [
  {
   "cell_type": "code",
   "execution_count": 5,
   "metadata": {},
   "outputs": [
    {
     "name": "stdout",
     "output_type": "stream",
     "text": [
      "10.0 10.0\n"
     ]
    }
   ],
   "source": [
    "c = [0]*100\n",
    "x = [10, 20, 30]\n",
    "avg = sum(x)/len(x)\n",
    "pos, neg = 0, 0\n",
    "for i in range(len(x)):\n",
    "    v = (x[i]-avg)*1.0\n",
    "    if v > 0:\n",
    "        pos += v\n",
    "    else:\n",
    "        neg += v\n",
    "neg = -neg\n",
    "print(neg, pos)"
   ]
  },
  {
   "cell_type": "code",
   "execution_count": null,
   "metadata": {
    "collapsed": true
   },
   "outputs": [],
   "source": []
  }
 ],
 "metadata": {
  "kernelspec": {
   "display_name": "Python 3",
   "language": "python",
   "name": "python3"
  },
  "language_info": {
   "codemirror_mode": {
    "name": "ipython",
    "version": 3
   },
   "file_extension": ".py",
   "mimetype": "text/x-python",
   "name": "python",
   "nbconvert_exporter": "python",
   "pygments_lexer": "ipython3",
   "version": "3.6.1"
  }
 },
 "nbformat": 4,
 "nbformat_minor": 2
}
